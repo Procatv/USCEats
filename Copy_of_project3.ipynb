{
  "cells": [
    {
      "cell_type": "markdown",
      "metadata": {
        "id": "view-in-github",
        "colab_type": "text"
      },
      "source": [
        "<a href=\"https://colab.research.google.com/github/Procatv/USCEats/blob/main/Copy_of_project3.ipynb\" target=\"_parent\"><img src=\"https://colab.research.google.com/assets/colab-badge.svg\" alt=\"Open In Colab\"/></a>"
      ]
    },
    {
      "cell_type": "markdown",
      "source": [
        "# Project 3, Due: Apr. 30, 2025\n",
        "**CSCI-360 Introduction to Artificial Intelligence (2025 Spring)**\n",
        "\n",
        "## Instructions\n",
        "In the following Python code blocks, write your code in the section marked with\n",
        "```python\n",
        "###\n",
        "### YOUR CODE HERE\n",
        "###\n",
        "```\n",
        "and\n",
        "```python\n",
        "### BEGIN HELPER\n",
        "\n",
        "### END HELPER\n",
        "```\n",
        "Specifically, the `SOLUTION` sections will be graded with test cases; you can leave `HELPER` sections blank if no need.\n",
        "Do not modify other code block. If you have any question, please ask on Piazza or go to an office hour."
      ],
      "metadata": {
        "vocVersion": "1.1",
        "cellIdentifier": "y5anfcz9f3xn9pp88259",
        "id": "y5anfcz9f3xn9pp88259"
      }
    },
    {
      "cell_type": "code",
      "source": [
        "# example\n",
        "! pip install numpy\n",
        "\n",
        "### BEGIN HELPER\n",
        "\n",
        "### END HELPER"
      ],
      "metadata": {
        "vocVersion": "1.1",
        "cellIdentifier": "eu6wl7ds7nmnjaesgbmngm",
        "colab": {
          "base_uri": "https://localhost:8080/"
        },
        "id": "eu6wl7ds7nmnjaesgbmngm",
        "outputId": "6c8afaf6-15ec-45dc-9e1d-47baeb402ffe"
      },
      "execution_count": null,
      "outputs": [
        {
          "output_type": "stream",
          "name": "stdout",
          "text": [
            "Requirement already satisfied: numpy in /usr/local/lib/python3.11/dist-packages (2.0.2)\n"
          ]
        }
      ]
    },
    {
      "cell_type": "markdown",
      "source": [
        "## Skeleton"
      ],
      "metadata": {
        "vocVersion": "1.1",
        "cellIdentifier": "ofhapkepymlq43ehuetu",
        "id": "ofhapkepymlq43ehuetu"
      }
    },
    {
      "cell_type": "code",
      "source": [
        "# Predefined Constants\n",
        "gamma = 0.9\n",
        "epsilon = 0.01\n",
        "\n",
        "# Specifying variable types.\n",
        "from typing import List, Tuple, Dict\n",
        "# We will be using a tuple (x,y) to represent a state,\n",
        "# e.g., (0, 0) means the robot is currently at (0, 0) on the map\n",
        "# We will be using a tuple (delta_x,delta_y) to represent an action,\n",
        "# e.g., (1, 0) means the going east (x_new=x+1, y_new=y)\n",
        "State = Tuple[int, int]\n",
        "Action = Tuple[int, int]"
      ],
      "metadata": {
        "vocVersion": "1.1",
        "cellIdentifier": "a4iuqv4y01mbkxlks7uk",
        "id": "a4iuqv4y01mbkxlks7uk"
      },
      "execution_count": null,
      "outputs": []
    },
    {
      "cell_type": "code",
      "source": [
        "class GridMDP:\n",
        "\n",
        "    def __init__(self, grid_size: int, gamma: float,\n",
        "                 obstacles: List[State], terminal: State):\n",
        "\n",
        "        self.grid_size = grid_size\n",
        "        self.gamma = gamma\n",
        "        self.obstacles = obstacles\n",
        "        self.terminal = terminal\n",
        "\n",
        "        self.actions = NORTH, SOUTH, EAST, WEST = [(0, -1), (0, 1), (1, 0), (-1, 0)]\n",
        "\n",
        "        self.states = set((x, y) for x in range(grid_size) for y in range(grid_size))\n",
        "        self.rewards = self.create_reward_function()\n",
        "        self.transitions = self.create_transition_function()\n",
        "\n",
        "    def go(self, current_state: State, action: Action) -> State:\n",
        "        \"\"\"Given the current position and action (one of {EAST, NORTH, WEST, SOUTH}),\n",
        "        Compute the next position. Pay attention to cases where your robot goes off the site.\"\"\"\n",
        "        ###\n",
        "        x, y = current_state\n",
        "        dx, dy = action\n",
        "        new_state = (x + dx, y + dy)\n",
        "        if new_state in self.states:\n",
        "            return new_state\n",
        "        else:\n",
        "            return current_state\n",
        "        ###\n",
        "\n",
        "    def create_reward_function(self) -> Dict[State, int]:\n",
        "        \"\"\"Create a reward function R given the obstacles and terminal information,\n",
        "        Note: R is a dictionary. R[state] = reward.\"\"\"\n",
        "        ###\n",
        "        R: Dict[State, int] = {}\n",
        "        for s in self.states:\n",
        "          if s == self.terminal:\n",
        "            R[s] = 100\n",
        "          elif s in self.obstacles:\n",
        "            R[s] = -100\n",
        "          else:\n",
        "            R[s] = -1\n",
        "        return R\n",
        "        ###\n",
        "\n",
        "    def create_transition_function(self) -> Dict[State, Dict[Action, List[Tuple[float, State]]]]:\n",
        "        \"\"\"Create a transition function T, in the following format:\n",
        "        T[state][action] = [(probability 1, possible next state 1),\n",
        "                            (probability 2, possible next state 2),\n",
        "                            ...]\n",
        "        Note: T is a dictionary. T[state] is a dictionary.\n",
        "        T[state][action] is a list.\"\"\"\n",
        "        ###\n",
        "        T: Dict[State, Dict[Action, List[Tuple[float, State]]]] = {}\n",
        "        for s in self.states:\n",
        "          T[s] = {}\n",
        "          for a in self.actions:\n",
        "            outcomes: List[Tuple[float, State]] = []\n",
        "            for a2 in self.actions:\n",
        "              p = 0.7 if a2 == a else 0.1\n",
        "              s2 = self.go(s, a2)\n",
        "              outcomes.append((p, s2))\n",
        "            T[s][a] = outcomes\n",
        "        return T\n",
        "        ###\n"
      ],
      "metadata": {
        "vocVersion": "1.1",
        "cellIdentifier": "0feixmv6vwz6tmh6up13x",
        "id": "0feixmv6vwz6tmh6up13x"
      },
      "execution_count": null,
      "outputs": []
    },
    {
      "cell_type": "code",
      "source": [
        "class GridMDPSolver():\n",
        "    def __init__(self, grid_mdp: GridMDP):\n",
        "        self.grid_mdp = grid_mdp\n",
        "\n",
        "    def solve(self, epsilon):\n",
        "        U = self.value_iteration(epsilon)\n",
        "        best_policy = self.best_policy(U)\n",
        "        display_string = self.render_arrows(best_policy)\n",
        "        return display_string\n",
        "\n",
        "    def expected_utility(self, state: State, action: Action, utility: Dict[State, float]) -> float:\n",
        "        \"\"\"Given a state, an action, a utility function.\n",
        "        Return the expected utility.\"\"\"\n",
        "\n",
        "        T = self.grid_mdp.transitions\n",
        "        expected_utility = 0.0\n",
        "\n",
        "        ###\n",
        "        for p, next_s in T[state][action]:\n",
        "          expected_utility += p * utility[next_s]\n",
        "        ###\n",
        "\n",
        "        return expected_utility\n",
        "\n",
        "    def value_iteration(self, epsilon) -> Dict[State, float]:\n",
        "        \"\"\"Implement the value iteration algorithm. Return a utility dictionary U.\n",
        "        You may want to use the `expected_utility` function defined above.\"\"\"\n",
        "\n",
        "        U_prime = {state: 0 for state in self.grid_mdp.states}\n",
        "        U = U_prime.copy()\n",
        "\n",
        "        gamma = self.grid_mdp.gamma\n",
        "        states = self.grid_mdp.states\n",
        "        actions = self.grid_mdp.actions\n",
        "        R = self.grid_mdp.rewards\n",
        "\n",
        "        ###\n",
        "        threshold = epsilon * (1 - gamma) / gamma\n",
        "        while True:\n",
        "          delta = 0.0\n",
        "          for s in states:\n",
        "            if s == self.grid_mdp.terminal:\n",
        "              U_prime[s] = R[s]\n",
        "            else:\n",
        "              best_succ = max(self.expected_utility(s, a, U) for a in actions)\n",
        "              U_prime[s] = R[s] + gamma * best_succ\n",
        "            delta = max(delta, abs(U_prime[s] - U[s]))\n",
        "          U = U_prime.copy()\n",
        "          if delta < threshold:\n",
        "            break\n",
        "        ###\n",
        "\n",
        "        return U\n",
        "\n",
        "\n",
        "    def best_policy(self, utility: Dict[State, float]) -> Dict[State, Action]:\n",
        "        \"\"\"Create a policy by using the principle of maximum expected utility.\n",
        "        You may want to use the `expected_utility` function defined above.\n",
        "        \"\"\"\n",
        "\n",
        "        states = self.grid_mdp.states\n",
        "        actions = self.grid_mdp.actions\n",
        "        p_best = {}\n",
        "\n",
        "        ###\n",
        "        for s in states:\n",
        "          if s == self.grid_mdp.terminal:\n",
        "            continue\n",
        "          best_a = actions[0]\n",
        "          best_val = self.expected_utility(s, best_a, utility)\n",
        "          for a in actions[1:]:\n",
        "            val = self.expected_utility(s, a, utility)\n",
        "            if val > best_val:\n",
        "              best_a = a\n",
        "              best_val = val\n",
        "          p_best[s] = best_a\n",
        "        ###\n",
        "\n",
        "        return p_best\n",
        "\n",
        "\n",
        "    def render_arrows(self, policy: Dict[State, Action]) -> str:\n",
        "        \"\"\"Format the policy into a string containing `<^>v*o` for display.\n",
        "        Example policy: (0,0) -> NORTH, (0,1) -> NORTH,\n",
        "                        (1,0) -> SOUTH, (1,1) -> WEST.\n",
        "        Example display string: `^v\\n^<`.\n",
        "\n",
        "        Note 1: In the grid, we use (col, row) coordinates.\n",
        "        The display string should reflect this.\n",
        "\n",
        "        Note 2: Obstacles should be represented with `o`.\n",
        "        Terminal should be represented with `.`.\n",
        "        \"\"\"\n",
        "        states = self.grid_mdp.states\n",
        "        grid_size = self.grid_mdp.grid_size\n",
        "        NORTH, SOUTH, EAST, WEST = [(0, -1), (0, 1), (1, 0), (-1, 0)]\n",
        "        display_string = \"\"\n",
        "\n",
        "        ###\n",
        "        for y in range(grid_size):\n",
        "          for x in range(grid_size):\n",
        "            s = (x,y)\n",
        "            if s == self.grid_mdp.terminal:\n",
        "              display_string += '.'\n",
        "            elif s in self.grid_mdp.obstacles:\n",
        "              display_string += 'o'\n",
        "            else:\n",
        "              a = policy[s]\n",
        "              if a == NORTH:\n",
        "                display_string += '^'\n",
        "              elif a == SOUTH:\n",
        "                display_string += 'v'\n",
        "              elif a == EAST:\n",
        "                display_string += '>'\n",
        "              elif a == WEST:\n",
        "                display_string += '<'\n",
        "          if y < grid_size - 1:\n",
        "            display_string += '\\n'\n",
        "        ###\n",
        "\n",
        "        return display_string\n"
      ],
      "metadata": {
        "vocVersion": "1.1",
        "cellIdentifier": "fabp5h7wkaunfehlh1fan",
        "id": "fabp5h7wkaunfehlh1fan"
      },
      "execution_count": null,
      "outputs": []
    },
    {
      "cell_type": "markdown",
      "source": [
        "## Revealed Test Cases"
      ],
      "metadata": {
        "vocVersion": "1.1",
        "cellIdentifier": "nwqcspxh8cct3y2rdhb4v9",
        "id": "nwqcspxh8cct3y2rdhb4v9"
      }
    },
    {
      "cell_type": "code",
      "source": [
        "def evaluate(test_case, ground_truth_output, your_output):\n",
        "    your_output = your_output.strip()\n",
        "    assert len(ground_truth_output) == len(your_output)\n",
        "    total_count, correct_count = 0, 0\n",
        "    for a, b in zip(ground_truth_output, your_output):\n",
        "        if a == \"\\n\": continue\n",
        "        total_count += 1\n",
        "        correct_count += int(a==b)\n",
        "    acc = correct_count / total_count\n",
        "    print(f\"{test_case}, acc={correct_count}/{total_count}={acc:.4f}\")\n",
        "    assert acc >= 0.90 or (total_count - correct_count <= 4), \\\n",
        "        f\"test name {test_case}, your output matches with {acc:.4f} of the groundtruth answer.\""
      ],
      "metadata": {
        "vocVersion": "1.1",
        "cellIdentifier": "rlnfj6bm85nb4orgjd84j",
        "nbgrader": {
          "grade": false,
          "locked": true,
          "solution": false
        },
        "editable": false,
        "deletable": false,
        "id": "rlnfj6bm85nb4orgjd84j"
      },
      "execution_count": null,
      "outputs": []
    },
    {
      "cell_type": "code",
      "source": [
        "test_cases = {\n",
        "    \"revealed_test_0\": [4, 2, [(0, 0), (3, 0)], (2, 2), \"ovvo\\nvvvv\\n>>.<\\n>>^<\"],\n",
        "    \"revealed_test_1\": [4, 3, [(1, 3), (3, 3), (3, 0)], (1, 0), \">.<o\\n^^<<\\n^^^<\\n^o^o\"],\n",
        "    'revealed_test_2': [4, 1, [(3, 2)], (2, 1), '>>v<\\n>>.<\\n^^^o\\n^^^<'],\n",
        "    \"revealed_test_3\": [8, 7, [(4, 6), (2, 7), (1, 5), (2, 0), (7, 5), (3, 4), (5, 3)], (0, 7), 'v<ovv<<<\\nvvvv<<<<\\nv<<<<<^^\\nv<<<^o^^\\nv<<o^v^^\\nvov<<<vo\\nv<<<ovvv\\n.<o^<>v<'],\n",
        "    \"revealed_test_4\": [12, 24, [(2, 2), (10, 3), (6, 8), (4, 1), (1, 4), (5, 6), (11, 8), (11, 1), (1, 6), (9, 8), (8, 11), (7, 1), (6, 4), (1, 0), (3, 4), (3, 6), (11, 6), (10, 11), (0, 2), (3, 8), (1, 10), (8, 3), (7, 6), (6, 11)],(9, 6), 'vo>>>>>>>v<<\\n>>>^ovvo>v<o\\novo>>vvv>v<v\\nv>>>>>>vovov\\nvovovvo>vvv<\\nv<>>>>>>>v<<\\nvovo^o^o>.<o\\nv<v>>>>>^^^<\\n<<<ovvo>^o^o\\n^<>>>>>>^<^<\\n^o>>>^>^^^^^\\nv>>>^^o^o^o^'],\n",
        "}\n",
        "\n",
        "for k, v in test_cases.items():\n",
        "    grid_size, n_obstacles, obstacles, terminal, ground_truth_output = v\n",
        "    grid_mdp = GridMDP(grid_size, gamma, obstacles, terminal)\n",
        "    your_output = GridMDPSolver(grid_mdp).solve(epsilon)\n",
        "    evaluate(k, ground_truth_output, your_output)"
      ],
      "metadata": {
        "vocVersion": "1.1",
        "cellIdentifier": "w4mvr6jp61lq2zi33q1cd8",
        "nbgrader": {
          "grade": false,
          "locked": false,
          "solution": false
        },
        "colab": {
          "base_uri": "https://localhost:8080/"
        },
        "id": "w4mvr6jp61lq2zi33q1cd8",
        "outputId": "473d3ca2-413d-4e73-8f94-25922a934fe1"
      },
      "execution_count": null,
      "outputs": [
        {
          "output_type": "stream",
          "name": "stdout",
          "text": [
            "revealed_test_0, acc=16/16=1.0000\n",
            "revealed_test_1, acc=16/16=1.0000\n",
            "revealed_test_2, acc=16/16=1.0000\n",
            "revealed_test_3, acc=64/64=1.0000\n",
            "revealed_test_4, acc=144/144=1.0000\n"
          ]
        }
      ]
    },
    {
      "cell_type": "markdown",
      "source": [
        "## Hidden Test Cases"
      ],
      "metadata": {
        "vocVersion": "1.1",
        "cellIdentifier": "90dx2m6p0up2wwnlklodty",
        "id": "90dx2m6p0up2wwnlklodty"
      }
    },
    {
      "cell_type": "code",
      "source": [
        "###\n",
        "### AUTOGRADER TEST - DO NOT REMOVE\n",
        "###\n"
      ],
      "metadata": {
        "vocVersion": "1.1",
        "cellIdentifier": "wy6r9vp99xfp73myual8tn",
        "nbgrader": {
          "grade": true,
          "locked": true,
          "solution": false,
          "grade_id": "test_0",
          "points": "2"
        },
        "editable": false,
        "deletable": false,
        "id": "wy6r9vp99xfp73myual8tn"
      },
      "execution_count": null,
      "outputs": []
    },
    {
      "cell_type": "code",
      "source": [
        "###\n",
        "### AUTOGRADER TEST - DO NOT REMOVE\n",
        "###\n"
      ],
      "metadata": {
        "vocVersion": "1.1",
        "cellIdentifier": "hst5fhio4yp4fp3p1jwmxv",
        "nbgrader": {
          "grade": true,
          "locked": true,
          "solution": false,
          "grade_id": "test_1",
          "points": "2"
        },
        "editable": false,
        "deletable": false,
        "id": "hst5fhio4yp4fp3p1jwmxv"
      },
      "execution_count": null,
      "outputs": []
    },
    {
      "cell_type": "code",
      "source": [
        "###\n",
        "### AUTOGRADER TEST - DO NOT REMOVE\n",
        "###\n"
      ],
      "metadata": {
        "vocVersion": "1.1",
        "cellIdentifier": "eg9l5njqoyi0uagszazughn",
        "nbgrader": {
          "grade": true,
          "locked": true,
          "solution": false,
          "grade_id": "test_2",
          "points": "2"
        },
        "editable": false,
        "deletable": false,
        "id": "eg9l5njqoyi0uagszazughn"
      },
      "execution_count": null,
      "outputs": []
    },
    {
      "cell_type": "code",
      "source": [
        "###\n",
        "### AUTOGRADER TEST - DO NOT REMOVE\n",
        "###\n"
      ],
      "metadata": {
        "vocVersion": "1.1",
        "cellIdentifier": "ltxg7ij5lrbofmpywjzjf",
        "nbgrader": {
          "grade": true,
          "locked": true,
          "solution": false,
          "grade_id": "test_3",
          "points": "2"
        },
        "editable": false,
        "deletable": false,
        "id": "ltxg7ij5lrbofmpywjzjf"
      },
      "execution_count": null,
      "outputs": []
    },
    {
      "cell_type": "code",
      "source": [
        "###\n",
        "### AUTOGRADER TEST - DO NOT REMOVE\n",
        "###\n"
      ],
      "metadata": {
        "vocVersion": "1.1",
        "cellIdentifier": "d4ocualgkhk224jz9izic",
        "nbgrader": {
          "grade": true,
          "locked": true,
          "solution": false,
          "grade_id": "test_4",
          "points": "2"
        },
        "editable": false,
        "deletable": false,
        "id": "d4ocualgkhk224jz9izic"
      },
      "execution_count": null,
      "outputs": []
    },
    {
      "cell_type": "code",
      "source": [
        "###\n",
        "### AUTOGRADER TEST - DO NOT REMOVE\n",
        "###\n"
      ],
      "metadata": {
        "vocVersion": "1.1",
        "cellIdentifier": "3j6eghh8btg7rlpffymlct",
        "nbgrader": {
          "grade": true,
          "locked": true,
          "solution": false,
          "grade_id": "test_5",
          "points": "2"
        },
        "editable": false,
        "deletable": false,
        "id": "3j6eghh8btg7rlpffymlct"
      },
      "execution_count": null,
      "outputs": []
    },
    {
      "cell_type": "code",
      "source": [
        "###\n",
        "### AUTOGRADER TEST - DO NOT REMOVE\n",
        "###\n"
      ],
      "metadata": {
        "vocVersion": "1.1",
        "cellIdentifier": "gm5gejedr3ca97iw2ufo1h",
        "nbgrader": {
          "grade": true,
          "locked": true,
          "solution": false,
          "grade_id": "test_6",
          "points": "2"
        },
        "editable": false,
        "deletable": false,
        "id": "gm5gejedr3ca97iw2ufo1h"
      },
      "execution_count": null,
      "outputs": []
    },
    {
      "cell_type": "code",
      "source": [
        "###\n",
        "### AUTOGRADER TEST - DO NOT REMOVE\n",
        "###\n"
      ],
      "metadata": {
        "vocVersion": "1.1",
        "cellIdentifier": "hk6nc0tutn5m70w38hjhy",
        "nbgrader": {
          "grade": true,
          "locked": true,
          "solution": false,
          "grade_id": "test_7",
          "points": "2"
        },
        "editable": false,
        "deletable": false,
        "id": "hk6nc0tutn5m70w38hjhy"
      },
      "execution_count": null,
      "outputs": []
    },
    {
      "cell_type": "code",
      "source": [
        "###\n",
        "### AUTOGRADER TEST - DO NOT REMOVE\n",
        "###\n"
      ],
      "metadata": {
        "vocVersion": "1.1",
        "cellIdentifier": "9y3dd719kgfgzbfb2x9gzc",
        "nbgrader": {
          "grade": true,
          "locked": true,
          "solution": false,
          "grade_id": "test_8",
          "points": "2"
        },
        "editable": false,
        "deletable": false,
        "id": "9y3dd719kgfgzbfb2x9gzc"
      },
      "execution_count": null,
      "outputs": []
    },
    {
      "cell_type": "code",
      "source": [
        "###\n",
        "### AUTOGRADER TEST - DO NOT REMOVE\n",
        "###\n"
      ],
      "metadata": {
        "vocVersion": "1.1",
        "cellIdentifier": "aor3hrfd2gff5954lsa3w",
        "nbgrader": {
          "grade": true,
          "locked": true,
          "solution": false,
          "grade_id": "test_9",
          "points": "2"
        },
        "editable": false,
        "deletable": false,
        "id": "aor3hrfd2gff5954lsa3w"
      },
      "execution_count": null,
      "outputs": []
    },
    {
      "cell_type": "code",
      "source": [
        "###\n",
        "### AUTOGRADER TEST - DO NOT REMOVE\n",
        "###\n"
      ],
      "metadata": {
        "vocVersion": "1.1",
        "cellIdentifier": "2p8uzj4a4rob6lnxkyzci8",
        "nbgrader": {
          "grade": true,
          "locked": true,
          "solution": false,
          "grade_id": "test_10",
          "points": "2"
        },
        "editable": false,
        "deletable": false,
        "id": "2p8uzj4a4rob6lnxkyzci8"
      },
      "execution_count": null,
      "outputs": []
    },
    {
      "cell_type": "code",
      "source": [
        "###\n",
        "### AUTOGRADER TEST - DO NOT REMOVE\n",
        "###\n"
      ],
      "metadata": {
        "vocVersion": "1.1",
        "cellIdentifier": "xzf1u8w34ab78it7fjcb",
        "nbgrader": {
          "grade": true,
          "locked": true,
          "solution": false,
          "grade_id": "test_11",
          "points": "2"
        },
        "editable": false,
        "deletable": false,
        "id": "xzf1u8w34ab78it7fjcb"
      },
      "execution_count": null,
      "outputs": []
    },
    {
      "cell_type": "code",
      "source": [
        "###\n",
        "### AUTOGRADER TEST - DO NOT REMOVE\n",
        "###\n"
      ],
      "metadata": {
        "vocVersion": "1.1",
        "cellIdentifier": "l30r84rkugjndhotfj0co",
        "nbgrader": {
          "grade": true,
          "locked": true,
          "solution": false,
          "grade_id": "test_12",
          "points": "2"
        },
        "editable": false,
        "deletable": false,
        "id": "l30r84rkugjndhotfj0co"
      },
      "execution_count": null,
      "outputs": []
    },
    {
      "cell_type": "code",
      "source": [
        "###\n",
        "### AUTOGRADER TEST - DO NOT REMOVE\n",
        "###\n"
      ],
      "metadata": {
        "vocVersion": "1.1",
        "cellIdentifier": "v99se3z493dww6y45n32z",
        "nbgrader": {
          "grade": true,
          "locked": true,
          "solution": false,
          "grade_id": "test_13",
          "points": "2"
        },
        "editable": false,
        "deletable": false,
        "id": "v99se3z493dww6y45n32z"
      },
      "execution_count": null,
      "outputs": []
    },
    {
      "cell_type": "code",
      "source": [
        "###\n",
        "### AUTOGRADER TEST - DO NOT REMOVE\n",
        "###\n"
      ],
      "metadata": {
        "vocVersion": "1.1",
        "cellIdentifier": "neakinu8x5b7mjlbbmtgi",
        "nbgrader": {
          "grade": true,
          "locked": true,
          "solution": false,
          "grade_id": "test_14",
          "points": "2"
        },
        "editable": false,
        "deletable": false,
        "id": "neakinu8x5b7mjlbbmtgi"
      },
      "execution_count": null,
      "outputs": []
    },
    {
      "cell_type": "code",
      "source": [
        "###\n",
        "### AUTOGRADER TEST - DO NOT REMOVE\n",
        "###\n"
      ],
      "metadata": {
        "vocVersion": "1.1",
        "cellIdentifier": "z77h4ms84dgyq8cr2s1rs",
        "nbgrader": {
          "grade": true,
          "locked": true,
          "solution": false,
          "grade_id": "test_15",
          "points": "2"
        },
        "editable": false,
        "deletable": false,
        "id": "z77h4ms84dgyq8cr2s1rs"
      },
      "execution_count": null,
      "outputs": []
    },
    {
      "cell_type": "code",
      "source": [
        "###\n",
        "### AUTOGRADER TEST - DO NOT REMOVE\n",
        "###\n"
      ],
      "metadata": {
        "vocVersion": "1.1",
        "cellIdentifier": "mjy1s1was6964fpiki93v3",
        "nbgrader": {
          "grade": true,
          "locked": true,
          "solution": false,
          "grade_id": "test_16",
          "points": "2"
        },
        "editable": false,
        "deletable": false,
        "id": "mjy1s1was6964fpiki93v3"
      },
      "execution_count": null,
      "outputs": []
    },
    {
      "cell_type": "code",
      "source": [
        "###\n",
        "### AUTOGRADER TEST - DO NOT REMOVE\n",
        "###\n"
      ],
      "metadata": {
        "vocVersion": "1.1",
        "cellIdentifier": "za8vfyyd5y7jgtsgjwwr7",
        "nbgrader": {
          "grade": true,
          "locked": true,
          "solution": false,
          "grade_id": "test_17",
          "points": "2"
        },
        "editable": false,
        "deletable": false,
        "id": "za8vfyyd5y7jgtsgjwwr7"
      },
      "execution_count": null,
      "outputs": []
    },
    {
      "cell_type": "code",
      "source": [
        "###\n",
        "### AUTOGRADER TEST - DO NOT REMOVE\n",
        "###\n"
      ],
      "metadata": {
        "vocVersion": "1.1",
        "cellIdentifier": "cvsq9gzp2inn428t272nq",
        "nbgrader": {
          "grade": true,
          "locked": true,
          "solution": false,
          "grade_id": "test_18",
          "points": "2"
        },
        "editable": false,
        "deletable": false,
        "id": "cvsq9gzp2inn428t272nq"
      },
      "execution_count": null,
      "outputs": []
    },
    {
      "cell_type": "code",
      "source": [
        "###\n",
        "### AUTOGRADER TEST - DO NOT REMOVE\n",
        "###\n"
      ],
      "metadata": {
        "vocVersion": "1.1",
        "cellIdentifier": "2izc6cspklvr4dwpbnlhr8",
        "nbgrader": {
          "grade": true,
          "locked": true,
          "solution": false,
          "grade_id": "test_19",
          "points": "2"
        },
        "editable": false,
        "deletable": false,
        "id": "2izc6cspklvr4dwpbnlhr8"
      },
      "execution_count": null,
      "outputs": []
    },
    {
      "cell_type": "code",
      "source": [
        "###\n",
        "### AUTOGRADER TEST - DO NOT REMOVE\n",
        "###\n"
      ],
      "metadata": {
        "vocVersion": "1.1",
        "cellIdentifier": "40uvi47gamnt7qt6hrwvv",
        "nbgrader": {
          "grade": true,
          "locked": true,
          "solution": false,
          "grade_id": "test_20",
          "points": "2"
        },
        "editable": false,
        "deletable": false,
        "id": "40uvi47gamnt7qt6hrwvv"
      },
      "execution_count": null,
      "outputs": []
    },
    {
      "cell_type": "code",
      "source": [
        "###\n",
        "### AUTOGRADER TEST - DO NOT REMOVE\n",
        "###\n"
      ],
      "metadata": {
        "vocVersion": "1.1",
        "cellIdentifier": "736b683wredqlm40sxqyqk",
        "nbgrader": {
          "grade": true,
          "locked": true,
          "solution": false,
          "grade_id": "test_21",
          "points": "2"
        },
        "editable": false,
        "deletable": false,
        "id": "736b683wredqlm40sxqyqk"
      },
      "execution_count": null,
      "outputs": []
    },
    {
      "cell_type": "code",
      "source": [
        "###\n",
        "### AUTOGRADER TEST - DO NOT REMOVE\n",
        "###\n"
      ],
      "metadata": {
        "vocVersion": "1.1",
        "cellIdentifier": "40oj00etl67gvu9v9hpcdt",
        "nbgrader": {
          "grade": true,
          "locked": true,
          "solution": false,
          "grade_id": "test_22",
          "points": "2"
        },
        "editable": false,
        "deletable": false,
        "id": "40oj00etl67gvu9v9hpcdt"
      },
      "execution_count": null,
      "outputs": []
    },
    {
      "cell_type": "code",
      "source": [
        "###\n",
        "### AUTOGRADER TEST - DO NOT REMOVE\n",
        "###\n"
      ],
      "metadata": {
        "vocVersion": "1.1",
        "cellIdentifier": "9sr1up2ydju5al87j2evh6",
        "nbgrader": {
          "grade": true,
          "locked": true,
          "solution": false,
          "grade_id": "test_23",
          "points": "2"
        },
        "editable": false,
        "deletable": false,
        "id": "9sr1up2ydju5al87j2evh6"
      },
      "execution_count": null,
      "outputs": []
    },
    {
      "cell_type": "code",
      "source": [
        "###\n",
        "### AUTOGRADER TEST - DO NOT REMOVE\n",
        "###\n"
      ],
      "metadata": {
        "vocVersion": "1.1",
        "cellIdentifier": "z1sbpj9fvx9u9dhkug3sq",
        "nbgrader": {
          "grade": true,
          "locked": true,
          "solution": false,
          "grade_id": "test_24",
          "points": "2"
        },
        "editable": false,
        "deletable": false,
        "id": "z1sbpj9fvx9u9dhkug3sq"
      },
      "execution_count": null,
      "outputs": []
    },
    {
      "cell_type": "code",
      "source": [
        "###\n",
        "### AUTOGRADER TEST - DO NOT REMOVE\n",
        "###\n"
      ],
      "metadata": {
        "vocVersion": "1.1",
        "cellIdentifier": "9yi243k36rsjsmup8yrbtm",
        "nbgrader": {
          "grade": true,
          "locked": true,
          "solution": false,
          "grade_id": "test_25",
          "points": "2"
        },
        "editable": false,
        "deletable": false,
        "id": "9yi243k36rsjsmup8yrbtm"
      },
      "execution_count": null,
      "outputs": []
    },
    {
      "cell_type": "code",
      "source": [
        "###\n",
        "### AUTOGRADER TEST - DO NOT REMOVE\n",
        "###\n"
      ],
      "metadata": {
        "vocVersion": "1.1",
        "cellIdentifier": "7ndxxshvujg0a3235tj0w5j",
        "nbgrader": {
          "grade": true,
          "locked": true,
          "solution": false,
          "grade_id": "test_26",
          "points": "2"
        },
        "editable": false,
        "deletable": false,
        "id": "7ndxxshvujg0a3235tj0w5j"
      },
      "execution_count": null,
      "outputs": []
    },
    {
      "cell_type": "code",
      "source": [
        "###\n",
        "### AUTOGRADER TEST - DO NOT REMOVE\n",
        "###\n"
      ],
      "metadata": {
        "vocVersion": "1.1",
        "cellIdentifier": "olqwfwjph4rb5tlmlda89",
        "nbgrader": {
          "grade": true,
          "locked": true,
          "solution": false,
          "grade_id": "test_27",
          "points": "2"
        },
        "editable": false,
        "deletable": false,
        "id": "olqwfwjph4rb5tlmlda89"
      },
      "execution_count": null,
      "outputs": []
    },
    {
      "cell_type": "code",
      "source": [
        "###\n",
        "### AUTOGRADER TEST - DO NOT REMOVE\n",
        "###\n"
      ],
      "metadata": {
        "vocVersion": "1.1",
        "cellIdentifier": "zengwv5t1ufxhmjjji52n",
        "nbgrader": {
          "grade": true,
          "locked": true,
          "solution": false,
          "grade_id": "test_28",
          "points": "2"
        },
        "editable": false,
        "deletable": false,
        "id": "zengwv5t1ufxhmjjji52n"
      },
      "execution_count": null,
      "outputs": []
    },
    {
      "cell_type": "code",
      "source": [
        "###\n",
        "### AUTOGRADER TEST - DO NOT REMOVE\n",
        "###\n"
      ],
      "metadata": {
        "vocVersion": "1.1",
        "cellIdentifier": "oq8z4qy76cp05w26o18vb7w",
        "nbgrader": {
          "grade": true,
          "locked": true,
          "solution": false,
          "grade_id": "test_29",
          "points": "2"
        },
        "editable": false,
        "deletable": false,
        "id": "oq8z4qy76cp05w26o18vb7w"
      },
      "execution_count": null,
      "outputs": []
    },
    {
      "cell_type": "code",
      "source": [
        "###\n",
        "### AUTOGRADER TEST - DO NOT REMOVE\n",
        "###\n"
      ],
      "metadata": {
        "vocVersion": "1.1",
        "cellIdentifier": "sxxe3bwsncjt7134ftssp",
        "nbgrader": {
          "grade": true,
          "locked": true,
          "solution": false,
          "grade_id": "test_30",
          "points": "2"
        },
        "editable": false,
        "deletable": false,
        "id": "sxxe3bwsncjt7134ftssp"
      },
      "execution_count": null,
      "outputs": []
    },
    {
      "cell_type": "code",
      "source": [
        "###\n",
        "### AUTOGRADER TEST - DO NOT REMOVE\n",
        "###\n"
      ],
      "metadata": {
        "vocVersion": "1.1",
        "cellIdentifier": "qzln5y5iz5of3wbg9omvn",
        "nbgrader": {
          "grade": true,
          "locked": true,
          "solution": false,
          "grade_id": "test_31",
          "points": "2"
        },
        "editable": false,
        "deletable": false,
        "id": "qzln5y5iz5of3wbg9omvn"
      },
      "execution_count": null,
      "outputs": []
    },
    {
      "cell_type": "code",
      "source": [
        "###\n",
        "### AUTOGRADER TEST - DO NOT REMOVE\n",
        "###\n"
      ],
      "metadata": {
        "vocVersion": "1.1",
        "cellIdentifier": "c7lma0s38jcybma3hfeg1m",
        "nbgrader": {
          "grade": true,
          "locked": true,
          "solution": false,
          "grade_id": "test_32",
          "points": "2"
        },
        "editable": false,
        "deletable": false,
        "id": "c7lma0s38jcybma3hfeg1m"
      },
      "execution_count": null,
      "outputs": []
    },
    {
      "cell_type": "code",
      "source": [
        "###\n",
        "### AUTOGRADER TEST - DO NOT REMOVE\n",
        "###\n"
      ],
      "metadata": {
        "vocVersion": "1.1",
        "cellIdentifier": "5mr8om0uh9v1yrxmagjlpt",
        "nbgrader": {
          "grade": true,
          "locked": true,
          "solution": false,
          "grade_id": "test_33",
          "points": "2"
        },
        "editable": false,
        "deletable": false,
        "id": "5mr8om0uh9v1yrxmagjlpt"
      },
      "execution_count": null,
      "outputs": []
    },
    {
      "cell_type": "code",
      "source": [
        "###\n",
        "### AUTOGRADER TEST - DO NOT REMOVE\n",
        "###\n"
      ],
      "metadata": {
        "vocVersion": "1.1",
        "cellIdentifier": "w264mz1jphm9qptew38ne",
        "nbgrader": {
          "grade": true,
          "locked": true,
          "solution": false,
          "grade_id": "test_34",
          "points": "2"
        },
        "editable": false,
        "deletable": false,
        "id": "w264mz1jphm9qptew38ne"
      },
      "execution_count": null,
      "outputs": []
    },
    {
      "cell_type": "code",
      "source": [
        "###\n",
        "### AUTOGRADER TEST - DO NOT REMOVE\n",
        "###\n"
      ],
      "metadata": {
        "vocVersion": "1.1",
        "cellIdentifier": "83uy9tmk3skigdgd212me9",
        "nbgrader": {
          "grade": true,
          "locked": true,
          "solution": false,
          "grade_id": "test_35",
          "points": "2"
        },
        "editable": false,
        "deletable": false,
        "id": "83uy9tmk3skigdgd212me9"
      },
      "execution_count": null,
      "outputs": []
    },
    {
      "cell_type": "code",
      "source": [
        "###\n",
        "### AUTOGRADER TEST - DO NOT REMOVE\n",
        "###\n"
      ],
      "metadata": {
        "vocVersion": "1.1",
        "cellIdentifier": "6tkbnmx6iln5058u4ezl9e",
        "nbgrader": {
          "grade": true,
          "locked": true,
          "solution": false,
          "grade_id": "test_36",
          "points": "2"
        },
        "editable": false,
        "deletable": false,
        "id": "6tkbnmx6iln5058u4ezl9e"
      },
      "execution_count": null,
      "outputs": []
    },
    {
      "cell_type": "code",
      "source": [
        "###\n",
        "### AUTOGRADER TEST - DO NOT REMOVE\n",
        "###\n"
      ],
      "metadata": {
        "vocVersion": "1.1",
        "cellIdentifier": "vvvroiu4m8nvee95lno6kh",
        "nbgrader": {
          "grade": true,
          "locked": true,
          "solution": false,
          "grade_id": "test_37",
          "points": "2"
        },
        "editable": false,
        "deletable": false,
        "id": "vvvroiu4m8nvee95lno6kh"
      },
      "execution_count": null,
      "outputs": []
    },
    {
      "cell_type": "code",
      "source": [
        "###\n",
        "### AUTOGRADER TEST - DO NOT REMOVE\n",
        "###\n"
      ],
      "metadata": {
        "vocVersion": "1.1",
        "cellIdentifier": "ra05mc7zpv5w393vjdpo",
        "nbgrader": {
          "grade": true,
          "locked": true,
          "solution": false,
          "grade_id": "test_38",
          "points": "2"
        },
        "editable": false,
        "deletable": false,
        "id": "ra05mc7zpv5w393vjdpo"
      },
      "execution_count": null,
      "outputs": []
    },
    {
      "cell_type": "code",
      "source": [
        "###\n",
        "### AUTOGRADER TEST - DO NOT REMOVE\n",
        "###\n"
      ],
      "metadata": {
        "vocVersion": "1.1",
        "cellIdentifier": "uhakar7wrplhdpy4s65op8",
        "nbgrader": {
          "grade": true,
          "locked": true,
          "solution": false,
          "grade_id": "test_39",
          "points": "2"
        },
        "editable": false,
        "deletable": false,
        "id": "uhakar7wrplhdpy4s65op8"
      },
      "execution_count": null,
      "outputs": []
    },
    {
      "cell_type": "code",
      "source": [
        "###\n",
        "### AUTOGRADER TEST - DO NOT REMOVE\n",
        "###\n"
      ],
      "metadata": {
        "vocVersion": "1.1",
        "cellIdentifier": "1ab3tmyyslzs59jv4ddvqd",
        "nbgrader": {
          "grade": true,
          "locked": true,
          "solution": false,
          "grade_id": "test_40",
          "points": "2"
        },
        "editable": false,
        "deletable": false,
        "id": "1ab3tmyyslzs59jv4ddvqd"
      },
      "execution_count": null,
      "outputs": []
    },
    {
      "cell_type": "code",
      "source": [
        "###\n",
        "### AUTOGRADER TEST - DO NOT REMOVE\n",
        "###\n"
      ],
      "metadata": {
        "vocVersion": "1.1",
        "cellIdentifier": "yx9eman18sukg3ohxm3",
        "nbgrader": {
          "grade": true,
          "locked": true,
          "solution": false,
          "grade_id": "test_41",
          "points": "2"
        },
        "editable": false,
        "deletable": false,
        "id": "yx9eman18sukg3ohxm3"
      },
      "execution_count": null,
      "outputs": []
    },
    {
      "cell_type": "code",
      "source": [
        "###\n",
        "### AUTOGRADER TEST - DO NOT REMOVE\n",
        "###\n"
      ],
      "metadata": {
        "vocVersion": "1.1",
        "cellIdentifier": "40b1rqcn0k2rf9540qvpte",
        "nbgrader": {
          "grade": true,
          "locked": true,
          "solution": false,
          "grade_id": "test_42",
          "points": "2"
        },
        "editable": false,
        "deletable": false,
        "id": "40b1rqcn0k2rf9540qvpte"
      },
      "execution_count": null,
      "outputs": []
    },
    {
      "cell_type": "code",
      "source": [
        "###\n",
        "### AUTOGRADER TEST - DO NOT REMOVE\n",
        "###\n"
      ],
      "metadata": {
        "vocVersion": "1.1",
        "cellIdentifier": "6vesfn150ydyw9dpyl146h",
        "nbgrader": {
          "grade": true,
          "locked": true,
          "solution": false,
          "grade_id": "test_43",
          "points": "2"
        },
        "editable": false,
        "deletable": false,
        "id": "6vesfn150ydyw9dpyl146h"
      },
      "execution_count": null,
      "outputs": []
    },
    {
      "cell_type": "code",
      "source": [
        "###\n",
        "### AUTOGRADER TEST - DO NOT REMOVE\n",
        "###\n"
      ],
      "metadata": {
        "vocVersion": "1.1",
        "cellIdentifier": "0udebljto9fvz7jpp446j",
        "nbgrader": {
          "grade": true,
          "locked": true,
          "solution": false,
          "grade_id": "test_44",
          "points": "2"
        },
        "editable": false,
        "deletable": false,
        "id": "0udebljto9fvz7jpp446j"
      },
      "execution_count": null,
      "outputs": []
    },
    {
      "cell_type": "code",
      "source": [
        "###\n",
        "### AUTOGRADER TEST - DO NOT REMOVE\n",
        "###\n"
      ],
      "metadata": {
        "vocVersion": "1.1",
        "cellIdentifier": "n9o93rf7r3n3scpdt4iji5",
        "nbgrader": {
          "grade": true,
          "locked": true,
          "solution": false,
          "grade_id": "test_45",
          "points": "2"
        },
        "editable": false,
        "deletable": false,
        "id": "n9o93rf7r3n3scpdt4iji5"
      },
      "execution_count": null,
      "outputs": []
    },
    {
      "cell_type": "code",
      "source": [
        "###\n",
        "### AUTOGRADER TEST - DO NOT REMOVE\n",
        "###\n"
      ],
      "metadata": {
        "vocVersion": "1.1",
        "cellIdentifier": "a6raal9dc0jl7gcps4f1zi",
        "nbgrader": {
          "grade": true,
          "locked": true,
          "solution": false,
          "grade_id": "test_46",
          "points": "2"
        },
        "editable": false,
        "deletable": false,
        "id": "a6raal9dc0jl7gcps4f1zi"
      },
      "execution_count": null,
      "outputs": []
    },
    {
      "cell_type": "code",
      "source": [
        "###\n",
        "### AUTOGRADER TEST - DO NOT REMOVE\n",
        "###\n"
      ],
      "metadata": {
        "vocVersion": "1.1",
        "cellIdentifier": "hiak8svmzkjqfulm38fa3b",
        "nbgrader": {
          "grade": true,
          "locked": true,
          "solution": false,
          "grade_id": "test_47",
          "points": "2"
        },
        "editable": false,
        "deletable": false,
        "id": "hiak8svmzkjqfulm38fa3b"
      },
      "execution_count": null,
      "outputs": []
    },
    {
      "cell_type": "code",
      "source": [
        "###\n",
        "### AUTOGRADER TEST - DO NOT REMOVE\n",
        "###\n"
      ],
      "metadata": {
        "vocVersion": "1.1",
        "cellIdentifier": "sgfhnaxnj7jxy4kq1okiu",
        "nbgrader": {
          "grade": true,
          "locked": true,
          "solution": false,
          "grade_id": "test_48",
          "points": "2"
        },
        "editable": false,
        "deletable": false,
        "id": "sgfhnaxnj7jxy4kq1okiu"
      },
      "execution_count": null,
      "outputs": []
    },
    {
      "cell_type": "code",
      "source": [
        "###\n",
        "### AUTOGRADER TEST - DO NOT REMOVE\n",
        "###\n"
      ],
      "metadata": {
        "vocVersion": "1.1",
        "cellIdentifier": "amtq9wxrx04hzee2r8ouwn",
        "nbgrader": {
          "grade": true,
          "locked": true,
          "solution": false,
          "grade_id": "test_49",
          "points": "2"
        },
        "editable": false,
        "deletable": false,
        "id": "amtq9wxrx04hzee2r8ouwn"
      },
      "execution_count": null,
      "outputs": []
    }
  ],
  "metadata": {
    "kernelspec": {
      "display_name": "base",
      "language": "python",
      "name": "python3"
    },
    "language_info": {
      "codemirror_mode": {
        "name": "ipython",
        "version": 3
      },
      "file_extension": ".py",
      "mimetype": "text/x-python",
      "name": "python",
      "nbconvert_exporter": "python",
      "pygments_lexer": "ipython3",
      "version": "3.10.8"
    },
    "colab": {
      "provenance": [],
      "include_colab_link": true
    }
  },
  "nbformat": 4,
  "nbformat_minor": 0
}